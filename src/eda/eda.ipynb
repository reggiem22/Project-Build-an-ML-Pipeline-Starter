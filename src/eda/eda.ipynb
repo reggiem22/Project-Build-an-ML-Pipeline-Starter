{
 "cells": [
  {
   "cell_type": "code",
   "execution_count": 2,
   "id": "1f72a955",
   "metadata": {
    "scrolled": true,
    "tags": []
   },
   "outputs": [
    {
     "name": "stdout",
     "output_type": "stream",
     "text": [
      "Requirement already satisfied: wandb==0.16.0 in /Users/reginaldmorman/miniconda3/envs/nyc_airbnb_dev/lib/python3.10/site-packages (0.16.0)\n",
      "Requirement already satisfied: Click!=8.0.0,>=7.1 in /Users/reginaldmorman/miniconda3/envs/nyc_airbnb_dev/lib/python3.10/site-packages (from wandb==0.16.0) (8.1.8)\n",
      "Requirement already satisfied: GitPython!=3.1.29,>=1.0.0 in /Users/reginaldmorman/miniconda3/envs/nyc_airbnb_dev/lib/python3.10/site-packages (from wandb==0.16.0) (3.1.44)\n",
      "Requirement already satisfied: requests<3,>=2.0.0 in /Users/reginaldmorman/miniconda3/envs/nyc_airbnb_dev/lib/python3.10/site-packages (from wandb==0.16.0) (2.32.3)\n",
      "Requirement already satisfied: psutil>=5.0.0 in /Users/reginaldmorman/miniconda3/envs/nyc_airbnb_dev/lib/python3.10/site-packages (from wandb==0.16.0) (7.0.0)\n",
      "Requirement already satisfied: sentry-sdk>=1.0.0 in /Users/reginaldmorman/miniconda3/envs/nyc_airbnb_dev/lib/python3.10/site-packages (from wandb==0.16.0) (2.25.0)\n",
      "Requirement already satisfied: docker-pycreds>=0.4.0 in /Users/reginaldmorman/miniconda3/envs/nyc_airbnb_dev/lib/python3.10/site-packages (from wandb==0.16.0) (0.4.0)\n",
      "Requirement already satisfied: PyYAML in /Users/reginaldmorman/miniconda3/envs/nyc_airbnb_dev/lib/python3.10/site-packages (from wandb==0.16.0) (6.0.2)\n",
      "Requirement already satisfied: setproctitle in /Users/reginaldmorman/miniconda3/envs/nyc_airbnb_dev/lib/python3.10/site-packages (from wandb==0.16.0) (1.3.5)\n",
      "Requirement already satisfied: setuptools in /Users/reginaldmorman/miniconda3/envs/nyc_airbnb_dev/lib/python3.10/site-packages (from wandb==0.16.0) (75.8.2)\n",
      "Requirement already satisfied: appdirs>=1.4.3 in /Users/reginaldmorman/miniconda3/envs/nyc_airbnb_dev/lib/python3.10/site-packages (from wandb==0.16.0) (1.4.4)\n",
      "Requirement already satisfied: protobuf!=4.21.0,<5,>=3.19.0 in /Users/reginaldmorman/miniconda3/envs/nyc_airbnb_dev/lib/python3.10/site-packages (from wandb==0.16.0) (4.25.6)\n",
      "Requirement already satisfied: six>=1.4.0 in /Users/reginaldmorman/miniconda3/envs/nyc_airbnb_dev/lib/python3.10/site-packages (from docker-pycreds>=0.4.0->wandb==0.16.0) (1.17.0)\n",
      "Requirement already satisfied: gitdb<5,>=4.0.1 in /Users/reginaldmorman/miniconda3/envs/nyc_airbnb_dev/lib/python3.10/site-packages (from GitPython!=3.1.29,>=1.0.0->wandb==0.16.0) (4.0.12)\n",
      "Requirement already satisfied: charset_normalizer<4,>=2 in /Users/reginaldmorman/miniconda3/envs/nyc_airbnb_dev/lib/python3.10/site-packages (from requests<3,>=2.0.0->wandb==0.16.0) (3.4.1)\n",
      "Requirement already satisfied: idna<4,>=2.5 in /Users/reginaldmorman/miniconda3/envs/nyc_airbnb_dev/lib/python3.10/site-packages (from requests<3,>=2.0.0->wandb==0.16.0) (3.10)\n",
      "Requirement already satisfied: urllib3<3,>=1.21.1 in /Users/reginaldmorman/miniconda3/envs/nyc_airbnb_dev/lib/python3.10/site-packages (from requests<3,>=2.0.0->wandb==0.16.0) (2.3.0)\n",
      "Requirement already satisfied: certifi>=2017.4.17 in /Users/reginaldmorman/miniconda3/envs/nyc_airbnb_dev/lib/python3.10/site-packages (from requests<3,>=2.0.0->wandb==0.16.0) (2025.1.31)\n",
      "Requirement already satisfied: smmap<6,>=3.0.1 in /Users/reginaldmorman/miniconda3/envs/nyc_airbnb_dev/lib/python3.10/site-packages (from gitdb<5,>=4.0.1->GitPython!=3.1.29,>=1.0.0->wandb==0.16.0) (5.0.2)\n",
      "Requirement already satisfied: ydata-profiling==4.12.1 in /Users/reginaldmorman/miniconda3/envs/nyc_airbnb_dev/lib/python3.10/site-packages (4.12.1)\n",
      "Requirement already satisfied: scipy<1.14,>=1.4.1 in /Users/reginaldmorman/miniconda3/envs/nyc_airbnb_dev/lib/python3.10/site-packages (from ydata-profiling==4.12.1) (1.13.1)\n",
      "Requirement already satisfied: pandas!=1.4.0,<3,>1.1 in /Users/reginaldmorman/miniconda3/envs/nyc_airbnb_dev/lib/python3.10/site-packages (from ydata-profiling==4.12.1) (2.1.3)\n",
      "Requirement already satisfied: matplotlib<3.10,>=3.5 in /Users/reginaldmorman/miniconda3/envs/nyc_airbnb_dev/lib/python3.10/site-packages (from ydata-profiling==4.12.1) (3.8.2)\n",
      "Requirement already satisfied: pydantic>=2 in /Users/reginaldmorman/miniconda3/envs/nyc_airbnb_dev/lib/python3.10/site-packages (from ydata-profiling==4.12.1) (2.11.1)\n",
      "Requirement already satisfied: PyYAML<6.1,>=5.0.0 in /Users/reginaldmorman/miniconda3/envs/nyc_airbnb_dev/lib/python3.10/site-packages (from ydata-profiling==4.12.1) (6.0.2)\n",
      "Requirement already satisfied: jinja2<3.2,>=2.11.1 in /Users/reginaldmorman/miniconda3/envs/nyc_airbnb_dev/lib/python3.10/site-packages (from ydata-profiling==4.12.1) (3.1.6)\n",
      "Requirement already satisfied: visions<0.7.7,>=0.7.5 in /Users/reginaldmorman/miniconda3/envs/nyc_airbnb_dev/lib/python3.10/site-packages (from visions[type_image_path]<0.7.7,>=0.7.5->ydata-profiling==4.12.1) (0.7.6)\n",
      "Requirement already satisfied: numpy<2.2,>=1.16.0 in /Users/reginaldmorman/miniconda3/envs/nyc_airbnb_dev/lib/python3.10/site-packages (from ydata-profiling==4.12.1) (1.26.4)\n",
      "Requirement already satisfied: htmlmin==0.1.12 in /Users/reginaldmorman/miniconda3/envs/nyc_airbnb_dev/lib/python3.10/site-packages (from ydata-profiling==4.12.1) (0.1.12)\n",
      "Requirement already satisfied: phik<0.13,>=0.11.1 in /Users/reginaldmorman/miniconda3/envs/nyc_airbnb_dev/lib/python3.10/site-packages (from ydata-profiling==4.12.1) (0.12.4)\n",
      "Requirement already satisfied: requests<3,>=2.24.0 in /Users/reginaldmorman/miniconda3/envs/nyc_airbnb_dev/lib/python3.10/site-packages (from ydata-profiling==4.12.1) (2.32.3)\n",
      "Requirement already satisfied: tqdm<5,>=4.48.2 in /Users/reginaldmorman/miniconda3/envs/nyc_airbnb_dev/lib/python3.10/site-packages (from ydata-profiling==4.12.1) (4.67.1)\n",
      "Requirement already satisfied: seaborn<0.14,>=0.10.1 in /Users/reginaldmorman/miniconda3/envs/nyc_airbnb_dev/lib/python3.10/site-packages (from ydata-profiling==4.12.1) (0.13.2)\n",
      "Requirement already satisfied: multimethod<2,>=1.4 in /Users/reginaldmorman/miniconda3/envs/nyc_airbnb_dev/lib/python3.10/site-packages (from ydata-profiling==4.12.1) (1.12)\n",
      "Requirement already satisfied: statsmodels<1,>=0.13.2 in /Users/reginaldmorman/miniconda3/envs/nyc_airbnb_dev/lib/python3.10/site-packages (from ydata-profiling==4.12.1) (0.14.4)\n",
      "Requirement already satisfied: typeguard<5,>=3 in /Users/reginaldmorman/miniconda3/envs/nyc_airbnb_dev/lib/python3.10/site-packages (from ydata-profiling==4.12.1) (4.4.2)\n",
      "Requirement already satisfied: imagehash==4.3.1 in /Users/reginaldmorman/miniconda3/envs/nyc_airbnb_dev/lib/python3.10/site-packages (from ydata-profiling==4.12.1) (4.3.1)\n",
      "Requirement already satisfied: wordcloud>=1.9.3 in /Users/reginaldmorman/miniconda3/envs/nyc_airbnb_dev/lib/python3.10/site-packages (from ydata-profiling==4.12.1) (1.9.4)\n",
      "Requirement already satisfied: dacite>=1.8 in /Users/reginaldmorman/miniconda3/envs/nyc_airbnb_dev/lib/python3.10/site-packages (from ydata-profiling==4.12.1) (1.9.2)\n",
      "Requirement already satisfied: numba<1,>=0.56.0 in /Users/reginaldmorman/miniconda3/envs/nyc_airbnb_dev/lib/python3.10/site-packages (from ydata-profiling==4.12.1) (0.61.0)\n",
      "Requirement already satisfied: PyWavelets in /Users/reginaldmorman/miniconda3/envs/nyc_airbnb_dev/lib/python3.10/site-packages (from imagehash==4.3.1->ydata-profiling==4.12.1) (1.8.0)\n",
      "Requirement already satisfied: pillow in /Users/reginaldmorman/miniconda3/envs/nyc_airbnb_dev/lib/python3.10/site-packages (from imagehash==4.3.1->ydata-profiling==4.12.1) (11.1.0)\n",
      "Requirement already satisfied: MarkupSafe>=2.0 in /Users/reginaldmorman/miniconda3/envs/nyc_airbnb_dev/lib/python3.10/site-packages (from jinja2<3.2,>=2.11.1->ydata-profiling==4.12.1) (3.0.2)\n",
      "Requirement already satisfied: contourpy>=1.0.1 in /Users/reginaldmorman/miniconda3/envs/nyc_airbnb_dev/lib/python3.10/site-packages (from matplotlib<3.10,>=3.5->ydata-profiling==4.12.1) (1.3.1)\n",
      "Requirement already satisfied: cycler>=0.10 in /Users/reginaldmorman/miniconda3/envs/nyc_airbnb_dev/lib/python3.10/site-packages (from matplotlib<3.10,>=3.5->ydata-profiling==4.12.1) (0.12.1)\n",
      "Requirement already satisfied: fonttools>=4.22.0 in /Users/reginaldmorman/miniconda3/envs/nyc_airbnb_dev/lib/python3.10/site-packages (from matplotlib<3.10,>=3.5->ydata-profiling==4.12.1) (4.56.0)\n",
      "Requirement already satisfied: kiwisolver>=1.3.1 in /Users/reginaldmorman/miniconda3/envs/nyc_airbnb_dev/lib/python3.10/site-packages (from matplotlib<3.10,>=3.5->ydata-profiling==4.12.1) (1.4.7)\n",
      "Requirement already satisfied: packaging>=20.0 in /Users/reginaldmorman/miniconda3/envs/nyc_airbnb_dev/lib/python3.10/site-packages (from matplotlib<3.10,>=3.5->ydata-profiling==4.12.1) (23.2)\n",
      "Requirement already satisfied: pyparsing>=2.3.1 in /Users/reginaldmorman/miniconda3/envs/nyc_airbnb_dev/lib/python3.10/site-packages (from matplotlib<3.10,>=3.5->ydata-profiling==4.12.1) (3.2.3)\n",
      "Requirement already satisfied: python-dateutil>=2.7 in /Users/reginaldmorman/miniconda3/envs/nyc_airbnb_dev/lib/python3.10/site-packages (from matplotlib<3.10,>=3.5->ydata-profiling==4.12.1) (2.9.0.post0)\n",
      "Requirement already satisfied: llvmlite<0.45,>=0.44.0dev0 in /Users/reginaldmorman/miniconda3/envs/nyc_airbnb_dev/lib/python3.10/site-packages (from numba<1,>=0.56.0->ydata-profiling==4.12.1) (0.44.0)\n",
      "Requirement already satisfied: pytz>=2020.1 in /Users/reginaldmorman/miniconda3/envs/nyc_airbnb_dev/lib/python3.10/site-packages (from pandas!=1.4.0,<3,>1.1->ydata-profiling==4.12.1) (2023.4)\n",
      "Requirement already satisfied: tzdata>=2022.1 in /Users/reginaldmorman/miniconda3/envs/nyc_airbnb_dev/lib/python3.10/site-packages (from pandas!=1.4.0,<3,>1.1->ydata-profiling==4.12.1) (2025.2)\n",
      "Requirement already satisfied: joblib>=0.14.1 in /Users/reginaldmorman/miniconda3/envs/nyc_airbnb_dev/lib/python3.10/site-packages (from phik<0.13,>=0.11.1->ydata-profiling==4.12.1) (1.4.2)\n",
      "Requirement already satisfied: annotated-types>=0.6.0 in /Users/reginaldmorman/miniconda3/envs/nyc_airbnb_dev/lib/python3.10/site-packages (from pydantic>=2->ydata-profiling==4.12.1) (0.7.0)\n",
      "Requirement already satisfied: pydantic-core==2.33.0 in /Users/reginaldmorman/miniconda3/envs/nyc_airbnb_dev/lib/python3.10/site-packages (from pydantic>=2->ydata-profiling==4.12.1) (2.33.0)\n",
      "Requirement already satisfied: typing-extensions>=4.12.2 in /Users/reginaldmorman/miniconda3/envs/nyc_airbnb_dev/lib/python3.10/site-packages (from pydantic>=2->ydata-profiling==4.12.1) (4.13.0)\n",
      "Requirement already satisfied: typing-inspection>=0.4.0 in /Users/reginaldmorman/miniconda3/envs/nyc_airbnb_dev/lib/python3.10/site-packages (from pydantic>=2->ydata-profiling==4.12.1) (0.4.0)\n",
      "Requirement already satisfied: charset_normalizer<4,>=2 in /Users/reginaldmorman/miniconda3/envs/nyc_airbnb_dev/lib/python3.10/site-packages (from requests<3,>=2.24.0->ydata-profiling==4.12.1) (3.4.1)\n",
      "Requirement already satisfied: idna<4,>=2.5 in /Users/reginaldmorman/miniconda3/envs/nyc_airbnb_dev/lib/python3.10/site-packages (from requests<3,>=2.24.0->ydata-profiling==4.12.1) (3.10)\n",
      "Requirement already satisfied: urllib3<3,>=1.21.1 in /Users/reginaldmorman/miniconda3/envs/nyc_airbnb_dev/lib/python3.10/site-packages (from requests<3,>=2.24.0->ydata-profiling==4.12.1) (2.3.0)\n",
      "Requirement already satisfied: certifi>=2017.4.17 in /Users/reginaldmorman/miniconda3/envs/nyc_airbnb_dev/lib/python3.10/site-packages (from requests<3,>=2.24.0->ydata-profiling==4.12.1) (2025.1.31)\n",
      "Requirement already satisfied: patsy>=0.5.6 in /Users/reginaldmorman/miniconda3/envs/nyc_airbnb_dev/lib/python3.10/site-packages (from statsmodels<1,>=0.13.2->ydata-profiling==4.12.1) (1.0.1)\n",
      "Requirement already satisfied: attrs>=19.3.0 in /Users/reginaldmorman/miniconda3/envs/nyc_airbnb_dev/lib/python3.10/site-packages (from visions<0.7.7,>=0.7.5->visions[type_image_path]<0.7.7,>=0.7.5->ydata-profiling==4.12.1) (25.3.0)\n",
      "Requirement already satisfied: networkx>=2.4 in /Users/reginaldmorman/miniconda3/envs/nyc_airbnb_dev/lib/python3.10/site-packages (from visions<0.7.7,>=0.7.5->visions[type_image_path]<0.7.7,>=0.7.5->ydata-profiling==4.12.1) (3.4.2)\n",
      "\u001b[33mWARNING: visions 0.7.6 does not provide the extra 'type-image-path'\u001b[0m\u001b[33m\n",
      "\u001b[0mRequirement already satisfied: six>=1.5 in /Users/reginaldmorman/miniconda3/envs/nyc_airbnb_dev/lib/python3.10/site-packages (from python-dateutil>=2.7->matplotlib<3.10,>=3.5->ydata-profiling==4.12.1) (1.17.0)\n",
      "Requirement already satisfied: pandas==2.1.3 in /Users/reginaldmorman/miniconda3/envs/nyc_airbnb_dev/lib/python3.10/site-packages (2.1.3)\n",
      "Requirement already satisfied: numpy<2,>=1.22.4 in /Users/reginaldmorman/miniconda3/envs/nyc_airbnb_dev/lib/python3.10/site-packages (from pandas==2.1.3) (1.26.4)\n",
      "Requirement already satisfied: python-dateutil>=2.8.2 in /Users/reginaldmorman/miniconda3/envs/nyc_airbnb_dev/lib/python3.10/site-packages (from pandas==2.1.3) (2.9.0.post0)\n",
      "Requirement already satisfied: pytz>=2020.1 in /Users/reginaldmorman/miniconda3/envs/nyc_airbnb_dev/lib/python3.10/site-packages (from pandas==2.1.3) (2023.4)\n",
      "Requirement already satisfied: tzdata>=2022.1 in /Users/reginaldmorman/miniconda3/envs/nyc_airbnb_dev/lib/python3.10/site-packages (from pandas==2.1.3) (2025.2)\n",
      "Requirement already satisfied: six>=1.5 in /Users/reginaldmorman/miniconda3/envs/nyc_airbnb_dev/lib/python3.10/site-packages (from python-dateutil>=2.8.2->pandas==2.1.3) (1.17.0)\n"
     ]
    }
   ],
   "source": [
    "!pip install wandb==0.16.0\n",
    "!pip install ydata-profiling==4.12.1\n",
    "!pip install pandas==2.1.3"
   ]
  },
  {
   "cell_type": "markdown",
   "id": "54c4f98a",
   "metadata": {},
   "source": [
    "1. Fetch the artifact we just created (sample.csv) from W&B and read it with pandas:"
   ]
  },
  {
   "cell_type": "code",
   "execution_count": 3,
   "id": "eed98c34",
   "metadata": {},
   "outputs": [
    {
     "name": "stderr",
     "output_type": "stream",
     "text": [
      "\u001b[34m\u001b[1mwandb\u001b[0m: Currently logged in as: \u001b[33mrmorma4\u001b[0m (\u001b[33mrmorma4-western-governors-university\u001b[0m). Use \u001b[1m`wandb login --relogin`\u001b[0m to force relogin\n"
     ]
    },
    {
     "data": {
      "text/html": [
       "wandb version 0.19.8 is available!  To upgrade, please run:\n",
       " $ pip install wandb --upgrade"
      ],
      "text/plain": [
       "<IPython.core.display.HTML object>"
      ]
     },
     "metadata": {},
     "output_type": "display_data"
    },
    {
     "data": {
      "text/html": [
       "Tracking run with wandb version 0.16.0"
      ],
      "text/plain": [
       "<IPython.core.display.HTML object>"
      ]
     },
     "metadata": {},
     "output_type": "display_data"
    },
    {
     "data": {
      "text/html": [
       "Run data is saved locally in <code>/Users/reginaldmorman/Project-Build-an-ML-Pipeline-Starter/src/eda/wandb/run-20250401_094246-912ldzpt</code>"
      ],
      "text/plain": [
       "<IPython.core.display.HTML object>"
      ]
     },
     "metadata": {},
     "output_type": "display_data"
    },
    {
     "data": {
      "text/html": [
       "Syncing run <strong><a href='https://wandb.ai/rmorma4-western-governors-university/nyc_airbnb/runs/912ldzpt' target=\"_blank\">serene-salad-11</a></strong> to <a href='https://wandb.ai/rmorma4-western-governors-university/nyc_airbnb' target=\"_blank\">Weights & Biases</a> (<a href='https://wandb.me/run' target=\"_blank\">docs</a>)<br/>"
      ],
      "text/plain": [
       "<IPython.core.display.HTML object>"
      ]
     },
     "metadata": {},
     "output_type": "display_data"
    },
    {
     "data": {
      "text/html": [
       " View project at <a href='https://wandb.ai/rmorma4-western-governors-university/nyc_airbnb' target=\"_blank\">https://wandb.ai/rmorma4-western-governors-university/nyc_airbnb</a>"
      ],
      "text/plain": [
       "<IPython.core.display.HTML object>"
      ]
     },
     "metadata": {},
     "output_type": "display_data"
    },
    {
     "data": {
      "text/html": [
       " View run at <a href='https://wandb.ai/rmorma4-western-governors-university/nyc_airbnb/runs/912ldzpt' target=\"_blank\">https://wandb.ai/rmorma4-western-governors-university/nyc_airbnb/runs/912ldzpt</a>"
      ],
      "text/plain": [
       "<IPython.core.display.HTML object>"
      ]
     },
     "metadata": {},
     "output_type": "display_data"
    }
   ],
   "source": [
    "import wandb\n",
    "import pandas as pd\n",
    "# Note that we use save_code=True in the call to wandb.init so the notebook is uploaded and versioned by W&B\n",
    "run = wandb.init(project=\"nyc_airbnb\", group=\"eda\", save_code=True)\n",
    "local_path = wandb.use_artifact(\"sample.csv:latest\").file()\n",
    "df = pd.read_csv(local_path)"
   ]
  },
  {
   "cell_type": "markdown",
   "id": "472b8c0d",
   "metadata": {},
   "source": [
    "2. Explore the data in df"
   ]
  },
  {
   "cell_type": "code",
   "execution_count": null,
   "id": "e7902159",
   "metadata": {},
   "outputs": [],
   "source": [
    "df.info()"
   ]
  },
  {
   "cell_type": "code",
   "execution_count": null,
   "id": "ef6f1457",
   "metadata": {},
   "outputs": [],
   "source": [
    "df.describe()"
   ]
  },
  {
   "cell_type": "code",
   "execution_count": null,
   "id": "13548f59",
   "metadata": {},
   "outputs": [],
   "source": [
    "df.head()"
   ]
  },
  {
   "cell_type": "markdown",
   "id": "ecfee692",
   "metadata": {},
   "source": [
    "3. What do you notice in the data? Look around and see what you can find.\n",
    "\n",
    "> For example, there are missing values in a few columns and the column `last_review` is a date but it is in string format. Look also at the `price` column, and note the outliers. There are some zeros and some very high prices. After talking to your stakeholders, you decide to consider from a minimum of `$10` to a maximum of `$350` per night."
   ]
  },
  {
   "cell_type": "markdown",
   "id": "b4bb415f",
   "metadata": {},
   "source": [
    "4. Fix some of the little problems we have found in the data with the following code:"
   ]
  },
  {
   "cell_type": "code",
   "execution_count": null,
   "id": "4d685317",
   "metadata": {},
   "outputs": [],
   "source": [
    "# Drop outliers\n",
    "min_price = 10\n",
    "max_price = 350\n",
    "idx = df['price'].between(min_price, max_price)\n",
    "df = df[idx].copy()\n",
    "# Convert last_review to datetime\n",
    "df['last_review'] = pd.to_datetime(df['last_review'])"
   ]
  },
  {
   "cell_type": "markdown",
   "id": "17990df4",
   "metadata": {},
   "source": [
    "Note how we did not impute missing values. We will do that in the inference pipeline, so we will be able to handle missing values also in production."
   ]
  },
  {
   "cell_type": "markdown",
   "id": "09287f29",
   "metadata": {},
   "source": [
    "5. Check with df.info() that all obvious problems have been solved"
   ]
  },
  {
   "cell_type": "code",
   "execution_count": null,
   "id": "b83b4970",
   "metadata": {},
   "outputs": [],
   "source": [
    "df.info()"
   ]
  },
  {
   "cell_type": "markdown",
   "id": "d727e697",
   "metadata": {},
   "source": [
    "6. Terminate the run by running `run.finish()`"
   ]
  },
  {
   "cell_type": "code",
   "execution_count": null,
   "id": "48b38586",
   "metadata": {},
   "outputs": [],
   "source": [
    "run.finish()"
   ]
  },
  {
   "cell_type": "markdown",
   "id": "13f82b21",
   "metadata": {},
   "source": [
    "7. Save the notebook."
   ]
  }
 ],
 "metadata": {
  "kernelspec": {
   "display_name": "Python 3 (ipykernel)",
   "language": "python",
   "name": "python3"
  },
  "language_info": {
   "codemirror_mode": {
    "name": "ipython",
    "version": 3
   },
   "file_extension": ".py",
   "mimetype": "text/x-python",
   "name": "python",
   "nbconvert_exporter": "python",
   "pygments_lexer": "ipython3",
   "version": "3.10.16"
  }
 },
 "nbformat": 4,
 "nbformat_minor": 5
}
